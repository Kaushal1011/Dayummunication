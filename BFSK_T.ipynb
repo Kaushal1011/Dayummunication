{
 "cells": [
  {
   "cell_type": "code",
   "execution_count": 1,
   "metadata": {},
   "outputs": [],
   "source": [
    "import numpy as np\n",
    "from matplotlib import pyplot as plt\n",
    "from scipy.signal import periodogram"
   ]
  },
  {
   "cell_type": "code",
   "execution_count": 2,
   "metadata": {},
   "outputs": [],
   "source": [
    "# msg = np.random.randint(low=0, high=2, size=int(1e6))\n",
    "msg = np.random.randint(low=0, high=2, size=int(1e6))\n",
    "# BPSK parameters\n",
    "Eb = 0.001\n",
    "fs = 50000\n",
    "Tb = 0.001\n",
    "br=1/Tb;                 # bit rate\n",
    "fc1=100;                 #carrier frequency for information as 1\n"
   ]
  },
  {
   "cell_type": "code",
   "execution_count": null,
   "metadata": {},
   "outputs": [],
   "source": []
  }
 ],
 "metadata": {
  "kernelspec": {
   "display_name": "Python 3",
   "language": "python",
   "name": "python3"
  },
  "language_info": {
   "codemirror_mode": {
    "name": "ipython",
    "version": 3
   },
   "file_extension": ".py",
   "mimetype": "text/x-python",
   "name": "python",
   "nbconvert_exporter": "python",
   "pygments_lexer": "ipython3",
   "version": "3.7.7"
  }
 },
 "nbformat": 4,
 "nbformat_minor": 4
}
